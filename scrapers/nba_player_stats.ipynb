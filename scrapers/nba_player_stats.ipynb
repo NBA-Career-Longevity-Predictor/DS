{
 "cells": [
  {
   "cell_type": "code",
   "execution_count": null,
   "metadata": {},
   "outputs": [],
   "source": [
    "import pandas as pd\n",
    "import requests\n",
    "import time\n",
    "from lxml import html"
   ]
  },
  {
   "cell_type": "code",
   "execution_count": null,
   "metadata": {},
   "outputs": [],
   "source": []
  }
 ],
 "metadata": {
  "kernelspec": {
   "display_name": "Python [conda env:lambda]",
   "language": "python",
   "name": "conda-env-lambda-py"
  }
 },
 "nbformat": 4,
 "nbformat_minor": 2
}
